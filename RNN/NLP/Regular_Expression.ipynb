{
 "cells": [
  {
   "cell_type": "code",
   "execution_count": 1,
   "metadata": {},
   "outputs": [],
   "source": [
    "import re"
   ]
  },
  {
   "cell_type": "markdown",
   "metadata": {},
   "source": [
    "Phone Number"
   ]
  },
  {
   "cell_type": "code",
   "execution_count": 9,
   "metadata": {},
   "outputs": [
    {
     "data": {
      "text/plain": [
       "['8714135828', '(701)-234-4747', '+9199457298', '+91-8762358345']"
      ]
     },
     "execution_count": 9,
     "metadata": {},
     "output_type": "execute_result"
    }
   ],
   "source": [
    "chatbot = \"Please share your email id and phone number?\"\n",
    "user = \"Here you go : my mail id is arunvignesh377@gmail.com and my phone number is 8714135828 also find my alternative number (701)-234-4747 and +919945729872,+91-8762358345\"\n",
    "\n",
    "pattern = \"\\(\\d{3}\\)\\-\\d{3}\\-\\d{4}|\\d{10}|\\+\\d{10}|\\+\\d{2}\\-\\d{10}\"\n",
    "matches = re.findall(pattern,user)\n",
    "matches"
   ]
  },
  {
   "cell_type": "markdown",
   "metadata": {},
   "source": [
    "Email"
   ]
  },
  {
   "cell_type": "code",
   "execution_count": 10,
   "metadata": {},
   "outputs": [
    {
     "data": {
      "text/plain": [
       "['arunvignesh377@gmail.com']"
      ]
     },
     "execution_count": 10,
     "metadata": {},
     "output_type": "execute_result"
    }
   ],
   "source": [
    "pattern = \"[a-zA-z0-9]*\\@[a-zA-z0-9]*\\.[a-zA-z0-9]*\"\n",
    "matches = re.findall(pattern,user)\n",
    "matches"
   ]
  },
  {
   "cell_type": "code",
   "execution_count": null,
   "metadata": {},
   "outputs": [],
   "source": [
    "text = ''' Tesla's gross cost of operating lease vehicles in FY2021 Q1 was $4.85 billion. In previous quarter i.e. FY2020 Q4 it was $3 billion. ''' \n",
    "\n",
    "pattern = \"[a-zA-z0-9]*\\@[a-zA-z0-9]*\\.[a-zA-z0-9]*\"\n",
    "matches = re.findall(pattern,user)\n",
    "matches"
   ]
  }
 ],
 "metadata": {
  "kernelspec": {
   "display_name": "Python 3.8.10 64-bit",
   "language": "python",
   "name": "python3"
  },
  "language_info": {
   "codemirror_mode": {
    "name": "ipython",
    "version": 3
   },
   "file_extension": ".py",
   "mimetype": "text/x-python",
   "name": "python",
   "nbconvert_exporter": "python",
   "pygments_lexer": "ipython3",
   "version": "3.8.10"
  },
  "orig_nbformat": 4,
  "vscode": {
   "interpreter": {
    "hash": "916dbcbb3f70747c44a77c7bcd40155683ae19c65e1c03b4aa3499c5328201f1"
   }
  }
 },
 "nbformat": 4,
 "nbformat_minor": 2
}
